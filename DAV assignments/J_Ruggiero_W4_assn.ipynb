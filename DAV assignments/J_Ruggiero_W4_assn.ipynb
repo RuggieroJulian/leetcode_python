{
 "cells": [
  {
   "cell_type": "markdown",
   "metadata": {},
   "source": [
    "### Assignment 4 - Ruggiero Julian"
   ]
  },
  {
   "cell_type": "markdown",
   "metadata": {},
   "source": [
    "#### 1) Write a Python/NumPy code block that finds the distinct/unique common items between these two arrays:\n",
    "\n",
    "a = np.array([1, 2, 3, 2, 3, 4, 3, 4, 5, 6])\n",
    "\n",
    "b = np.array([7, 2, 10, 2, 7, 4, 9, 4, 9, 8])\n",
    "\n",
    "Your output should contain only the distinct overlapping values. For example, if a 2 is found in both array a and array b, your output should contain only one 2 even if array a contains more than one 2 within it."
   ]
  },
  {
   "cell_type": "markdown",
   "metadata": {},
   "source": [
    "##### Solution"
   ]
  },
  {
   "cell_type": "markdown",
   "metadata": {},
   "source": [
    "For this first task I will:\n",
    "- Extract the unique values from each array and define new arrays unique_a and unique_b\n",
    "- Use of 1n1d function to test if the values in unique_a are in unique_b (this returns a boolean array)\n",
    "- Pass the boolean array in the step above to the unique_a to get the values that are common between the two original arrays a and b\n",
    "- Use of array2string function to concatenate the results in the print statement"
   ]
  },
  {
   "cell_type": "code",
   "execution_count": 1,
   "metadata": {},
   "outputs": [
    {
     "name": "stdout",
     "output_type": "stream",
     "text": [
      "Results task1 \n",
      "The distinct/unique common items between these two arrays are [2 4]\n"
     ]
    }
   ],
   "source": [
    "import numpy as np\n",
    "a = np.array([1, 2, 3, 2, 3, 4, 3, 4, 5, 6])\n",
    "b = np.array([7, 2, 10, 2, 7, 4, 9, 4, 9, 8])\n",
    "# First I get the unique values in each array\n",
    "unique_a=np.unique(a)\n",
    "unique_b=np.unique(b)\n",
    "#get the values that are common between the two original arrays a and b\n",
    "results_task1=unique_a[np.in1d(unique_a,unique_b)]\n",
    "print(\"Results task1 \\nThe distinct/unique common items between these two arrays are \"+np.array2string(results_task1))"
   ]
  },
  {
   "attachments": {},
   "cell_type": "markdown",
   "metadata": {},
   "source": [
    "#### 2) Create the following 5x3 array using knowledge you have of Python’s / NumPy’s sequencing functionality so that you do not need to explicitly key in every integer value.\n",
    "\n",
    "<img src=\"https://raw.githubusercontent.com/gitjuli/DAV-5400/master/2darray.png\"\n",
    "     alt=\"Markdown Monster icon\"\n",
    "     style=\"float: left; margin-right: 5px;\" />"
   ]
  },
  {
   "cell_type": "markdown",
   "metadata": {},
   "source": [
    "##### Solution"
   ]
  },
  {
   "cell_type": "markdown",
   "metadata": {},
   "source": [
    "For this second task I will make it in one step, but applying the logic below:\n",
    "\n",
    "- Define 1-dimensional array from 1 to 15(inclusive).\n",
    "- Reshape to a 2-dimensional array of 3 rows and 5 columns (this is done to be able to use T method in the next step).\n",
    "- Use the T method to change from 3x5 to 5x3 array."
   ]
  },
  {
   "cell_type": "code",
   "execution_count": 2,
   "metadata": {},
   "outputs": [
    {
     "name": "stdout",
     "output_type": "stream",
     "text": [
      "The 5x3 array is \n",
      " [[ 1  6 11]\n",
      " [ 2  7 12]\n",
      " [ 3  8 13]\n",
      " [ 4  9 14]\n",
      " [ 5 10 15]]\n"
     ]
    }
   ],
   "source": [
    "task2=np.arange(1,16).reshape(3,5).T\n",
    "print(f\"The 5x3 array is \\n {task2}\")"
   ]
  },
  {
   "cell_type": "markdown",
   "metadata": {},
   "source": [
    "#### 3) You are given the following two arrays:\n",
    "a = np.array([12, 5, 7, 15, 3, 1, 8])\n",
    "\n",
    "b = np.array([14, 6, 3, 11, 19, 12, 5])\n",
    "\n",
    "Write a Python/Numpy code block that removes from array a any items that are also present in array b."
   ]
  },
  {
   "cell_type": "markdown",
   "metadata": {},
   "source": [
    "##### Solution"
   ]
  },
  {
   "cell_type": "markdown",
   "metadata": {},
   "source": [
    "For this second task I will:\n",
    "\n",
    "- Use of 1n1d function to test if the values in a are in b (this returns a boolean array).\n",
    "- Define the boolean array \"condition\" inverting the previous step with the ~ operator.\n",
    "- Apply the \"condition\" to the original array to remove from 'a' any items that are also present in 'b' and print the results"
   ]
  },
  {
   "cell_type": "code",
   "execution_count": 5,
   "metadata": {},
   "outputs": [
    {
     "name": "stdout",
     "output_type": "stream",
     "text": [
      "Results task3 \n",
      "After removing from array 'a' the items that are also present in array 'b', the result is \n"
     ]
    },
    {
     "data": {
      "text/plain": [
       "array([ 7, 15,  1,  8])"
      ]
     },
     "execution_count": 5,
     "metadata": {},
     "output_type": "execute_result"
    }
   ],
   "source": [
    "a = np.array([12, 5, 7, 15, 3, 1, 8])\n",
    "b = np.array([14, 6, 3, 11, 19, 12, 5])\n",
    "#creating the \"condition\" boolean array by reversin the in1d function.\n",
    "condition=~np.array([np.in1d(a,b)])\n",
    "print(\"Results task3 \\nAfter removing from array 'a' the items that are also present in array 'b', the result is \")\n",
    "a[condition[0]]"
   ]
  },
  {
   "cell_type": "markdown",
   "metadata": {},
   "source": [
    "#### 4) Suppose you have ridden a bicycle from New York City to Key West, Florida. Your bicycle odometer shows the total miles you have travelled thus far, which you make a note of each day with paper and pencil. Your first two entries might be ‘55’ and ‘120’, indicating that you rode your bike 55 miles on day 1 and 65 miles on day 2. Your task is to create a NumPy array wherein you can record the cumulative miles you recorded each day during your trip. Then use your Python skills to show the total miles that you rode each day. Assume the trip took a total of 35 days and included at least 4 non-consecutive days where no cycling was possible due to either weather conditions or personal fatigue/soreness. For the remaining 31 days, you would have covered the entire distance between NYC and Key West. Complete your work within your Jupyter Notebook for this assignment and be sure to include a writeup explaining your approach to this problem, including the ways in which you decided to make use of NumPy."
   ]
  },
  {
   "cell_type": "markdown",
   "metadata": {},
   "source": [
    "##### Solution"
   ]
  },
  {
   "cell_type": "markdown",
   "metadata": {},
   "source": [
    "After searching on Google, the distance in miles for ridding from New York City to Key West, Florida is 1638 miles. The steps for this solucion are:\n",
    "- Create a random numpy array of 35 elements, from 1 to 1638.\n",
    "- Sort the results.\n",
    "- Replace the last value to be 1638 to simulate that this is the end of the ride.\n",
    "- Create a function that uses numpy to to get 4 random values from the array and check that the random choices are not the same and non consecutive.\n",
    "- Change the value of the previous day to be the ones selected randomly, to simulate that 0 miles were completed each of the 4 random days.\n",
    "- Calculate the difference between each element with the diff function\n",
    "- Convert the numpy to a list, because the diff ommits the first element, so to be able to extract from the original cumulative array the 1st element and add to the beginning of the new list\n",
    "- Create a dict comprehension to show the amount of miles traveled each day"
   ]
  },
  {
   "cell_type": "code",
   "execution_count": 19,
   "metadata": {},
   "outputs": [
    {
     "name": "stdout",
     "output_type": "stream",
     "text": [
      "The numpy array containing the cumulative miles is below: \n",
      "\n",
      " [ 127  131  196  259  291  525  532  541  541  602  609  613  681  704\n",
      "  706  733  803  814  931  939  941  942 1103 1120 1148 1192 1220 1221\n",
      " 1235 1287 1361 1448 1452 1573 1638]\n"
     ]
    }
   ],
   "source": [
    "#create random array of 35 integers between 1 and 1638\n",
    "ran=np.random.randint(1,1638,35)\n",
    "#sort the numbers to simulate the cumulative miles recorded for the total ride\n",
    "cumulative=np.sort(ran)\n",
    "#the last number of miles should be 1638, so replacing the last item\n",
    "cumulative[len(cumulative)-1]=1638\n",
    "print(f\"The numpy array containing the cumulative miles is below: \\n\\n {cumulative}\")"
   ]
  },
  {
   "cell_type": "code",
   "execution_count": 20,
   "metadata": {},
   "outputs": [],
   "source": [
    "#include at least 4 non-consecutive days where no cycling was possible due to either weather conditions or personal fatigue/soreness\n",
    "#select 4 random elements from the array \"cumulative\"\n",
    "def non_consecutive_index(array,k):\n",
    "    '''This function accepts a numpy array and an integer.\n",
    "    Will simulate the indexes of the array provided as input\n",
    "    and select 4 random indexes that are not equal and non consecutive to each other.\n",
    "    This loop can run multiple times until the conditions above are met'''\n",
    "    finish=False\n",
    "    #defining the begining of the loop, that will run until conditions are met\n",
    "    while finish is False:\n",
    "        #define the indexes from 0 to 35\n",
    "        indexes=np.arange(0,len(array))\n",
    "        #pick k number of random values\n",
    "        choices=np.random.choice(indexes, k)\n",
    "        #sort the numpy array containing the k indexes\n",
    "        sortChoices=sorted(choices)\n",
    "        #calculate the difference between each value and the next one\n",
    "        diffChoices=np.diff(sortChoices)\n",
    "        #check that the values are not the same (0 in diffChoices)\n",
    "        #check that the values are not consecutives (1 in diffChoices)\n",
    "        #also check that the selected index is not the first one, just wanted to avoid stoping the byke ride at the first day\n",
    "        if 0 in diffChoices or 0 in sortChoices:\n",
    "            continue\n",
    "        #check that the values are not consecutives (1 in diffChoices)    \n",
    "        elif 1 in diffChoices:\n",
    "            continue\n",
    "        else:\n",
    "            finish=True\n",
    "    #when the numpy array is ready with non repeated and non consecutive elements then it is returned\n",
    "    return sortChoices"
   ]
  },
  {
   "cell_type": "code",
   "execution_count": 21,
   "metadata": {},
   "outputs": [
    {
     "name": "stdout",
     "output_type": "stream",
     "text": [
      "[9, 21, 23, 33]\n"
     ]
    }
   ],
   "source": [
    "#call the function above and print to check that it worked ok, should display 4 different and non consecutive indexes\n",
    "indexes=non_consecutive_index(cumulative,4)\n",
    "print(indexes)"
   ]
  },
  {
   "cell_type": "code",
   "execution_count": 22,
   "metadata": {},
   "outputs": [
    {
     "data": {
      "text/plain": [
       "array([ 127,  131,  196,  259,  291,  525,  532,  541,  602,  602,  609,\n",
       "        613,  681,  704,  706,  733,  803,  814,  931,  939,  942,  942,\n",
       "       1120, 1120, 1148, 1192, 1220, 1221, 1235, 1287, 1361, 1448, 1573,\n",
       "       1573, 1638])"
      ]
     },
     "execution_count": 22,
     "metadata": {},
     "output_type": "execute_result"
    }
   ],
   "source": [
    "#iterate throw the indexes list to replace with the previous value\n",
    "for item in indexes:\n",
    "    cumulative[item-1]=cumulative[item]\n",
    "#print new array with the random values selected with the previous value index to show that \n",
    "#no progress was accomplised that day\n",
    "cumulative"
   ]
  },
  {
   "cell_type": "code",
   "execution_count": 24,
   "metadata": {},
   "outputs": [
    {
     "data": {
      "text/plain": [
       "{'Day 1': 127,\n",
       " 'Day 2': 4,\n",
       " 'Day 3': 65,\n",
       " 'Day 4': 63,\n",
       " 'Day 5': 32,\n",
       " 'Day 6': 234,\n",
       " 'Day 7': 7,\n",
       " 'Day 8': 9,\n",
       " 'Day 9': 61,\n",
       " 'Day 10': 0,\n",
       " 'Day 11': 7,\n",
       " 'Day 12': 4,\n",
       " 'Day 13': 68,\n",
       " 'Day 14': 23,\n",
       " 'Day 15': 2,\n",
       " 'Day 16': 27,\n",
       " 'Day 17': 70,\n",
       " 'Day 18': 11,\n",
       " 'Day 19': 117,\n",
       " 'Day 20': 8,\n",
       " 'Day 21': 3,\n",
       " 'Day 22': 0,\n",
       " 'Day 23': 178,\n",
       " 'Day 24': 0,\n",
       " 'Day 25': 28,\n",
       " 'Day 26': 44,\n",
       " 'Day 27': 28,\n",
       " 'Day 28': 1,\n",
       " 'Day 29': 14,\n",
       " 'Day 30': 52,\n",
       " 'Day 31': 74,\n",
       " 'Day 32': 87,\n",
       " 'Day 33': 125,\n",
       " 'Day 34': 0,\n",
       " 'Day 35': 65}"
      ]
     },
     "execution_count": 24,
     "metadata": {},
     "output_type": "execute_result"
    }
   ],
   "source": [
    "#calculate the difference between each element and convert to a list\n",
    "miles_x_day=np.diff(cumulative).tolist()\n",
    "#add the first element at the beginning of the list (because it is ommited in the diff function)\n",
    "miles_x_day.insert(0,cumulative[0])\n",
    "dic={}\n",
    "#create a dict comprehension to include a reference for the miles traveled each day\n",
    "dic={'Day '+str(i+1):miles_x_day[i] for i in range(len(miles_x_day))}\n",
    "dic"
   ]
  },
  {
   "cell_type": "markdown",
   "metadata": {},
   "source": [
    "#### 5) Open the Jupyter Notebook provided to you with this assignment. The first code block within that file will load a small data set from a GitHub repository into a NumPy 2D array. The original source of that data contains an overview of its contents:\n",
    "\n",
    "https://data.cityofnewyork.us/Environment/Water-Consumption-In-The-New-York-City/ia2d-e54m\n",
    "\n",
    "Scroll down to the bottom of that page to access an interactive data viewer that includes the column headings for the data.\n",
    "Using the NumPy array that has been loaded for you in the Jupyter Notebook, answer the following questions using NumPy’s slicing, methods, and functions:\n",
    "\n",
    "- What is the maximum yearly NYC consumption of water in millions of gallons per day?\n",
    "- How many calendar years are represented within this data set? NumPy's shape command is one way to find out.\n",
    "- What is the mean and the standard deviation of the per capita daily water consumption?\n",
    "- What is the increase or decrease in population from year to year? Use NumPy's `diff` function to create an array of differences and save that to a variable called \"pop_diff\", then print that variable to the screen."
   ]
  },
  {
   "cell_type": "code",
   "execution_count": 26,
   "metadata": {},
   "outputs": [
    {
     "name": "stderr",
     "output_type": "stream",
     "text": [
      "C:\\Users\\julir\\Anaconda3\\lib\\site-packages\\ipykernel_launcher.py:8: FutureWarning: Method .as_matrix will be removed in a future version. Use .values instead.\n",
      "  \n"
     ]
    },
    {
     "data": {
      "text/plain": [
       "numpy.ndarray"
      ]
     },
     "execution_count": 26,
     "metadata": {},
     "output_type": "execute_result"
    }
   ],
   "source": [
    "import pandas\n",
    "import numpy as np\n",
    "\n",
    "# supress scientific notation\n",
    "np.set_printoptions(suppress = True)\n",
    "\n",
    "# read the data file from GitHub and convert to a NumPy ndarray object\n",
    "nyc_water = pandas.read_csv('https://raw.githubusercontent.com/jtopor/DAV-5400/master/Week4/Water_Consumption_In_The_New_York_City.csv').as_matrix()\n",
    "\n",
    "# verify you have an ndarray object\n",
    "type(nyc_water)"
   ]
  },
  {
   "cell_type": "code",
   "execution_count": 31,
   "metadata": {},
   "outputs": [
    {
     "name": "stdout",
     "output_type": "stream",
     "text": [
      "The maximum yearly NYC consumption of water in millions of gallons per day is 1512.0\n"
     ]
    }
   ],
   "source": [
    "#What is the maximum yearly NYC consumption of water in millions of gallons per day?\n",
    "#I use the numpy slicing to get only the values in the 3rd column to get the max number\n",
    "max_water=max(nyc_water[:,2])\n",
    "print(\"The maximum yearly NYC consumption of water in millions of gallons per day is \"+str(max_water))"
   ]
  },
  {
   "cell_type": "code",
   "execution_count": 32,
   "metadata": {},
   "outputs": [
    {
     "name": "stdout",
     "output_type": "stream",
     "text": [
      "There are 39 calendar years within this data set \n",
      "\n",
      "From the original link there are rows from 1972 to 2018, which means that there are actually 40 rows, but the 'raw' data contains up to 2017, means 39 rows\n"
     ]
    }
   ],
   "source": [
    "#How many calendar years are represented within this data set?\n",
    "#I use the shape method, that returns (rows,columns) and retrieve the 1st element ([0]), which is the number of rows\n",
    "print(f\"There are {nyc_water.shape[0]} calendar years within this data set \\n\") \n",
    "print(\"From the original link there are rows from 1972 to 2018, which means that there are actually 40 rows, \"\n",
    "      \"but the 'raw' data contains up to 2017, means 39 rows\")"
   ]
  },
  {
   "cell_type": "code",
   "execution_count": 33,
   "metadata": {},
   "outputs": [
    {
     "name": "stdout",
     "output_type": "stream",
     "text": [
      "The mean of the per capita daily water consumption is 160 and the standard deviation is 31\n"
     ]
    }
   ],
   "source": [
    "#What is the mean and the standard deviation of the per capita daily water consumption?\n",
    "#I use the slice method to get all rows, and only the 4th column, then use the numpy mean and std functions\n",
    "mean_per_capita=np.mean(nyc_water[:,3])\n",
    "std=np.std(nyc_water[:,3])\n",
    "print(f\"The mean of the per capita daily water consumption is {int(mean_per_capita)} and the standard deviation is {int(std)}\") "
   ]
  },
  {
   "cell_type": "code",
   "execution_count": 35,
   "metadata": {},
   "outputs": [
    {
     "name": "stdout",
     "output_type": "stream",
     "text": [
      "The array of differences in population from year to year is \n",
      "\n",
      " [-30461.   17602.   19864.   72119.   53290.   39540.   45192.   23230.\n",
      "  11243.   -9544.   -8525.   38851.   54443.   77222.   64292.   62582.\n",
      "  64772.   75631.   84816.   89401.   60618.   16685.5  16685.5  16685.5\n",
      "  16685.5  16685.5  16685.5  16685.5  16685.5  16685.5  16685.5 108965.\n",
      "  77081.   61281.   49530.   44512.   21171.   85025. ]\n"
     ]
    }
   ],
   "source": [
    "#What is the increase or decrease in population from year to year?\n",
    "#I use numpy slicing to get all rows, and only the 2nd column, and calculate with the diff function the difference\n",
    "#between each row\n",
    "pop_diff=np.diff(nyc_water[:,1])\n",
    "print(f\"The array of differences in population from year to year is \\n\\n {pop_diff}\")"
   ]
  },
  {
   "cell_type": "code",
   "execution_count": null,
   "metadata": {},
   "outputs": [],
   "source": []
  }
 ],
 "metadata": {
  "kernelspec": {
   "display_name": "Python 3",
   "language": "python",
   "name": "python3"
  },
  "language_info": {
   "codemirror_mode": {
    "name": "ipython",
    "version": 3
   },
   "file_extension": ".py",
   "mimetype": "text/x-python",
   "name": "python",
   "nbconvert_exporter": "python",
   "pygments_lexer": "ipython3",
   "version": "3.7.3"
  }
 },
 "nbformat": 4,
 "nbformat_minor": 2
}
