{
 "cells": [
  {
   "cell_type": "code",
   "execution_count": 21,
   "metadata": {},
   "outputs": [
    {
     "name": "stdout",
     "output_type": "stream",
     "text": [
      "{0: 0, 1: 0, 2: 0, 3: 0, 4: 0, 5: 0, 6: 0, 7: 0, 8: 0, 9: 0}\n",
      "[5, 1, 1, 10, 7, 1]\n"
     ]
    }
   ],
   "source": [
    "#[\"bbb\",\"cc\"]\n",
    "#[\"a\",\"aa\",\"aaa\",\"aaaa\"]\n",
    "string1 = [\"bba\",\"abaaaaaa\",\"aaaaaa\",\"bbabbabaab\",\"aba\",\"aa\",\"baab\",\"bbbbbb\",\"aab\",\"bbabbaabb\"]\n",
    "string2 = [\"aaabbb\",\"aab\",\"babbab\",\"babbbb\",\"b\",\"bbbbbbbbab\",\"a\",\"bbbbbbbbbb\",\"baaabbaab\",\"aa\"]\n",
    "#Creating a dictionary for all the values\n",
    "dic = {idx:0 for idx,s in enumerate(string2)}\n",
    "print(dic)\n",
    "#dic={}\n",
    "# dictionary manual iterator\n",
    "i=0\n",
    "# Two for loops for both strings.\n",
    "for s2 in string2:    \n",
    "    for s1 in string1:\n",
    "        #checking the number of smallest valued character\n",
    "        if  s2.count(min(s2)) > s1.count(min(s1)):\n",
    "            #dictionary sum registry\n",
    "            dic[i]+=1\n",
    "    # iterator increment\n",
    "    i+=1\n",
    "    #returning only the values in the dictionary and casting them into a list\n",
    "print([x for i,x in dic.items() if x!=0])"
   ]
  },
  {
   "cell_type": "code",
   "execution_count": null,
   "metadata": {},
   "outputs": [],
   "source": []
  }
 ],
 "metadata": {
  "kernelspec": {
   "display_name": "Python 3",
   "language": "python",
   "name": "python3"
  },
  "language_info": {
   "codemirror_mode": {
    "name": "ipython",
    "version": 3
   },
   "file_extension": ".py",
   "mimetype": "text/x-python",
   "name": "python",
   "nbconvert_exporter": "python",
   "pygments_lexer": "ipython3",
   "version": "3.7.3"
  }
 },
 "nbformat": 4,
 "nbformat_minor": 2
}
