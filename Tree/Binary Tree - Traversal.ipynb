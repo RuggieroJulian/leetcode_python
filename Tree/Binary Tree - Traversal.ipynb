{
 "cells": [
  {
   "cell_type": "markdown",
   "metadata": {},
   "source": [
    "https://leetcode.com/explore/learn/card/data-structure-tree/134/traverse-a-tree/992/"
   ]
  },
  {
   "cell_type": "markdown",
   "metadata": {},
   "source": [
    "### Traversal on Binary Trees\n",
    "- Preorder: Root, Left, Right (DFS)\n",
    "- Inorder: Left, Root, Right (BFS)\n",
    "- Postorder: Left, Right, Root"
   ]
  },
  {
   "cell_type": "code",
   "execution_count": 1,
   "metadata": {},
   "outputs": [],
   "source": [
    "class Node(object):\n",
    "    # init is the constructor\n",
    "    def __init__(self, value):\n",
    "        self.value = value\n",
    "        self.left = None\n",
    "        self.right = None\n",
    "        \n",
    "class BinaryTree(object):\n",
    "    def __init__(self, root):\n",
    "        self.root = Node(root)\n",
    "        \n",
    "    def print_tree(self, traversal_type):\n",
    "        if traversal_type == \"preorder\":\n",
    "            return self.preorder_traversal(tree.root,\"\")\n",
    "        elif traversal_type == \"inorder\":\n",
    "            return self.inorder_traversal(tree.root,\"\")\n",
    "        elif traversal_type == \"postorder\":\n",
    "            return self.postorder_traversal(tree.root,\"\")\n",
    "        \n",
    "# METHODS WITH RECURSION ----------------------------------------------------------\n",
    "\n",
    "    def preorder_traversal(self, start, traversal):\n",
    "        \"\"\"Root->Left->Right\"\"\"\n",
    "        if start:\n",
    "            traversal += (str(start.value)+\"-\")\n",
    "            traversal = self.preorder_traversal(start.left, traversal)\n",
    "            traversal = self.preorder_traversal(start.right, traversal)\n",
    "        return traversal\n",
    "    \n",
    "    def inorder_traversal(self, start, traversal):\n",
    "        \"\"\"Left->Root->Right\"\"\"\n",
    "        if start:\n",
    "            traversal = self.inorder_traversal(start.left, traversal)\n",
    "            traversal += (str(start.value)+\"-\")\n",
    "            traversal = self.inorder_traversal(start.right, traversal)\n",
    "        return traversal\n",
    "    \n",
    "    def postorder_traversal(self, start, traversal):\n",
    "        \"\"\"Left->Right->Root\"\"\"\n",
    "        if start:\n",
    "            traversal = self.inorder_traversal(start.left, traversal)\n",
    "            traversal = self.inorder_traversal(start.right, traversal)\n",
    "            traversal += (str(start.value)+\"-\")\n",
    "        return traversal\n",
    "    \n",
    "# FINISH RECURSIVE METHODS ------------------------------------------------------------------\n",
    "\n",
    "# ITERATIVE METHOD -------------------------------------------------------------------------------\n",
    "    \n",
    "    def preorderTraversal(self, root):\n",
    "        \"\"\"Root->Left->Right\n",
    "        Time Complexity: O(n)\n",
    "        Space Complexity: depends on the size of the stack, worst case is O(h) where 'h' is the high of the Binary Tree\"\"\"\n",
    "        \n",
    "        # Base checking code\n",
    "        if root is None:\n",
    "            return []\n",
    "        \n",
    "        # initializing the stack and the output list. Stack is LIFO\n",
    "        stack, output = [root, ], []\n",
    "        # until the stack is empty\n",
    "        while stack:\n",
    "            # Initialize the root with the Current TreeNode Class Object\n",
    "            #pop() removes and returns last value from the list or the given index value.\n",
    "            root = stack.pop()\n",
    "            # if the root is not empty just to save to time\n",
    "            if root is not None:\n",
    "                #add the traversal output\n",
    "                output.append(root.value)\n",
    "                #Add to the Stack\n",
    "                #right side first\n",
    "                if root.right is not None:\n",
    "                    stack.append(root.right)\n",
    "                if root.left is not None:\n",
    "                    stack.append(root.left)\n",
    "        return output\n",
    "    \n",
    "    def inorderTraversal(self, root):\n",
    "        # Left->Root->Right\n",
    "        stack=[]\n",
    "        output=[]\n",
    "        while (True):\n",
    "            if root is not None:\n",
    "                stack.append(root)\n",
    "                root=root.left\n",
    "            else:\n",
    "                if len(stack)==0:\n",
    "                    break\n",
    "                root=stack.pop()\n",
    "                output.append(root.value)\n",
    "                root=root.right\n",
    "        return output\n",
    "\n",
    "    def postorderTraversal(self, root):\n",
    "        # Left->Root->Right\n",
    "        current=root\n",
    "        stack=[]\n",
    "        output=[]\n",
    "        while (current is not None or len(stack)!=0):\n",
    "            if (current is not None):\n",
    "                stack.append(current)\n",
    "                current=current.left\n",
    "            else:\n",
    "                temp=stack[-1].right\n",
    "                if (temp is None):\n",
    "                    temp=stack.pop()\n",
    "                    output.append(temp.value)\n",
    "                    while (len(stack)!=0 and temp==stack[-1].right):\n",
    "                        temp=stack.pop()\n",
    "                        output.append(temp.value)\n",
    "                else:\n",
    "                    current=temp\n",
    "        return output\n",
    "    \n",
    "        \n",
    "    def postorderTraversal(self, root):\n",
    "        # Left->Root->Right\n",
    "        stack=[]\n",
    "        output=[]\n",
    "        while (True):\n",
    "            if root is not None:\n",
    "                stack.append(root)\n",
    "                root=root.left\n",
    "            else:\n",
    "                if len(stack)==0:\n",
    "                    break\n",
    "                root=stack.pop()\n",
    "                output.append(root.value)\n",
    "                root=root.right\n",
    "        return output\n",
    "    "
   ]
  },
  {
   "cell_type": "code",
   "execution_count": 2,
   "metadata": {},
   "outputs": [],
   "source": [
    "#       1\n",
    "#    /    \\\n",
    "#   2      3\n",
    "#  / \\    / \\\n",
    "# 4  5   6  7\n",
    "tree=BinaryTree(1)\n",
    "tree.root.left=Node(2)\n",
    "tree.root.right=Node(3)\n",
    "tree.root.left.left=Node(4)\n",
    "tree.root.left.right=Node(5)\n",
    "tree.root.right.left=Node(6)\n",
    "tree.root.right.right=Node(7)"
   ]
  },
  {
   "cell_type": "markdown",
   "metadata": {},
   "source": [
    "### Preorder"
   ]
  },
  {
   "cell_type": "code",
   "execution_count": 3,
   "metadata": {},
   "outputs": [
    {
     "data": {
      "text/plain": [
       "'1-2-4-5-3-6-7-'"
      ]
     },
     "execution_count": 3,
     "metadata": {},
     "output_type": "execute_result"
    }
   ],
   "source": [
    "# Testing Recursion preorder\n",
    "tree.print_tree(\"preorder\")"
   ]
  },
  {
   "cell_type": "markdown",
   "metadata": {},
   "source": [
    "To understand better the recursive: https://www.youtube.com/watch?v=6oL-0TdVy28"
   ]
  },
  {
   "cell_type": "code",
   "execution_count": 4,
   "metadata": {},
   "outputs": [
    {
     "data": {
      "text/plain": [
       "[1, 2, 4, 5, 3, 6, 7]"
      ]
     },
     "execution_count": 4,
     "metadata": {},
     "output_type": "execute_result"
    }
   ],
   "source": [
    "# Testing Iterative preorder\n",
    "tree.preorderTraversal(tree.root)"
   ]
  },
  {
   "cell_type": "markdown",
   "metadata": {},
   "source": [
    "Link to understand better the iterative: https://www.youtube.com/watch?v=elQcrJrfObg"
   ]
  },
  {
   "cell_type": "markdown",
   "metadata": {},
   "source": [
    "### Inorder"
   ]
  },
  {
   "cell_type": "code",
   "execution_count": 5,
   "metadata": {},
   "outputs": [
    {
     "data": {
      "text/plain": [
       "'4-2-5-1-6-3-7-'"
      ]
     },
     "execution_count": 5,
     "metadata": {},
     "output_type": "execute_result"
    }
   ],
   "source": [
    "# Testing Recursion inorder\n",
    "tree.print_tree(\"inorder\") # 4-2-5-1-6-3-7"
   ]
  },
  {
   "cell_type": "code",
   "execution_count": 136,
   "metadata": {},
   "outputs": [
    {
     "data": {
      "text/plain": [
       "[4, 2, 5, 1, 6, 3, 7]"
      ]
     },
     "execution_count": 136,
     "metadata": {},
     "output_type": "execute_result"
    }
   ],
   "source": [
    "# Testing Iterative inorder\n",
    "tree.inorderTraversal(tree.root) # 4-2-5-1-6-3-7"
   ]
  },
  {
   "cell_type": "markdown",
   "metadata": {},
   "source": [
    "### Postorder"
   ]
  },
  {
   "cell_type": "code",
   "execution_count": 137,
   "metadata": {},
   "outputs": [
    {
     "data": {
      "text/plain": [
       "'4-2-5-6-3-7-1-'"
      ]
     },
     "execution_count": 137,
     "metadata": {},
     "output_type": "execute_result"
    }
   ],
   "source": [
    "# Testing Recursion postorder\n",
    "tree.print_tree(\"postorder\") # 4-2-5-6-3-7-1"
   ]
  },
  {
   "cell_type": "code",
   "execution_count": 138,
   "metadata": {},
   "outputs": [
    {
     "data": {
      "text/plain": [
       "[4, 5, 2, 6, 7, 3, 1]"
      ]
     },
     "execution_count": 138,
     "metadata": {},
     "output_type": "execute_result"
    }
   ],
   "source": [
    "# Testing Iterative postorder\n",
    "tree.postorderTraversal(tree.root) # 4-2-5-1-6-3-7"
   ]
  }
 ],
 "metadata": {
  "kernelspec": {
   "display_name": "Python 3",
   "language": "python",
   "name": "python3"
  },
  "language_info": {
   "codemirror_mode": {
    "name": "ipython",
    "version": 3
   },
   "file_extension": ".py",
   "mimetype": "text/x-python",
   "name": "python",
   "nbconvert_exporter": "python",
   "pygments_lexer": "ipython3",
   "version": "3.7.3"
  }
 },
 "nbformat": 4,
 "nbformat_minor": 2
}
