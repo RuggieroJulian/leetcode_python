{
 "cells": [
  {
   "cell_type": "code",
   "execution_count": 6,
   "metadata": {},
   "outputs": [
    {
     "data": {
      "text/plain": [
       "17"
      ]
     },
     "execution_count": 6,
     "metadata": {},
     "output_type": "execute_result"
    }
   ],
   "source": [
    "def steps(f,c):\n",
    "    '''\n",
    "    Created on Thu Sep 19 23:57:09 2019\n",
    "    This function takes a list of integers (flowers) and an integer (capacity)\n",
    "    Each integer represents the amount of water that this flower needs, if not\n",
    "    enough water it goes to refill(0 index) and then is able to apply the water.\n",
    "        - water the plants in the order in which they appear, from left to right;\n",
    "        - water each plant if you have sufficient water for it, otherwise refill your watering can;\n",
    "        - water each plant in one go, i.e. without taking a break to refill the watering can in the middle of watering a single plant. This means that you may sometimes have to refill your watering can before or after watering a plant, even though it's not completely empty.\n",
    "    You start at the water container, which is positioned one step before the first plant. How many steps will you take, in order to water all the plants in the row? You must take one step to move to the next or the previous plant (all plants are positioned one step apart from each other).\n",
    "    @author: julian ruggiero\n",
    "    '''\n",
    "    flowers=f\n",
    "    capacity=c\n",
    "    #add the capacity at the end, and then invert the list to have it at the beginning\n",
    "    flowers.insert(0,capacity)\n",
    "    steps=0\n",
    "    reminder=capacity\n",
    "    finish=False\n",
    "    filled=[]\n",
    "    filled.append(0) #index 0 for the capacity added\n",
    "    i=1\n",
    "    while finish != True:\n",
    "        if len(filled)==len(flowers):\n",
    "            finish=True\n",
    "            continue\n",
    "        else:\n",
    "            #index has not been filled yet\n",
    "            if i not in filled:\n",
    "                if flowers[i]<=reminder:\n",
    "                    filled.append(i)\n",
    "                    reminder-=flowers[i]\n",
    "                    steps+=1\n",
    "                    i+=1\n",
    "                else:\n",
    "                    #go back to fill and return to the same position\n",
    "                    steps+=(i*2)-2\n",
    "                    reminder+=capacity\n",
    "                    continue\n",
    "    return steps\n",
    "steps([2,4,5,1,2],6)"
   ]
  },
  {
   "cell_type": "code",
   "execution_count": 8,
   "metadata": {},
   "outputs": [
    {
     "data": {
      "text/plain": [
       "17"
      ]
     },
     "execution_count": 8,
     "metadata": {},
     "output_type": "execute_result"
    }
   ],
   "source": [
    "### Other solution\n",
    "def watering(plants,cap):    \n",
    "    steps= 0\n",
    "    fill= cap\n",
    "    for idx,plant in enumerate(plants):\n",
    "        if plant <= cap:\n",
    "            steps+=1\n",
    "            cap-=plant\n",
    "        else:\n",
    "            cap=fill\n",
    "            steps+=(idx*2)+1\n",
    "            cap-=plant\n",
    "    return steps\n",
    "watering([2, 4, 5, 1, 2],6)# gives 17"
   ]
  },
  {
   "cell_type": "code",
   "execution_count": null,
   "metadata": {},
   "outputs": [],
   "source": []
  }
 ],
 "metadata": {
  "kernelspec": {
   "display_name": "Python 3",
   "language": "python",
   "name": "python3"
  },
  "language_info": {
   "codemirror_mode": {
    "name": "ipython",
    "version": 3
   },
   "file_extension": ".py",
   "mimetype": "text/x-python",
   "name": "python",
   "nbconvert_exporter": "python",
   "pygments_lexer": "ipython3",
   "version": "3.7.3"
  }
 },
 "nbformat": 4,
 "nbformat_minor": 2
}
