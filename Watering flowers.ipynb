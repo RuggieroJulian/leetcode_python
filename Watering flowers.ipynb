{
 "cells": [
  {
   "cell_type": "markdown",
   "metadata": {},
   "source": [
    "You are a gardener and you take care of your plants. The plants are planted in a row and each of them needs a specific amount of water. You are about to water them using a watering can. To avoid mistakes like applying too much water, or not watering a plant at all, you have decided to:\n",
    "\n",
    "- water the plants in the order in which they appear, from left to right;\n",
    "- water each plant if you have sufficient water for it, otherwise refill your watering can;\n",
    "- water each plant in one go, i.e. without taking a break to refill the watering can in the middle of watering a single plant. This means that you may sometimes have to refill your watering can before or after watering a plant, even though it's not completely empty.\n",
    "\n",
    "You start at the water container, which is positioned one step before the first plant. How many steps will you take, in order to water all the plants in the row? You must take one step to move to the next or the previous plant (all plants are positioned one step apart from each other).\n",
    "\n",
    "Given an array plants of n integers (for the amount of water needed by each plan) and the watering can capacity, return the number of steps needed to water all the plants.\n",
    "\n",
    "Example 1:\n",
    "\n",
    "Input: plants = [2, 4, 5, 1, 2], capacity = 6\n",
    "\n",
    "Output: 17\n",
    "\n",
    "Explanation:\n",
    "First you water plants[0] and plants[1] (2 steps).\n",
    "Then you have to go back to refill (2 steps) and water plants[2] and plants[3] (4 steps).\n",
    "Then again you have to refill (4 steps) and water plants[4] (5 steps).\n",
    "So 2 + 2 + 4 + 4 + 5 = 17."
   ]
  },
  {
   "cell_type": "markdown",
   "metadata": {},
   "source": [
    "#### My Solution"
   ]
  },
  {
   "cell_type": "code",
   "execution_count": 5,
   "metadata": {},
   "outputs": [
    {
     "data": {
      "text/plain": [
       "17"
      ]
     },
     "execution_count": 5,
     "metadata": {},
     "output_type": "execute_result"
    }
   ],
   "source": [
    "def numberSteps(f,c):\n",
    "    '''\n",
    "    Created on Thu Sep 19 23:57:09 2019\n",
    "    This function takes a list of integers (flowers) and an integer (capacity)\n",
    "    Each integer represents the amount of water that this flower needs, if not\n",
    "    enough water it goes to refill(0 index) and then is able to apply the water.\n",
    "        - water the plants in the order in which they appear, from left to right;\n",
    "        - water each plant if you have sufficient water for it, otherwise refill your watering can;\n",
    "        - water each plant in one go, i.e. without taking a break to refill the watering can in the middle of watering a single plant. This means that you may sometimes have to refill your watering can before or after watering a plant, even though it's not completely empty.\n",
    "    You start at the water container, which is positioned one step before the first plant. How many steps will you take, in order to water all the plants in the row? You must take one step to move to the next or the previous plant (all plants are positioned one step apart from each other).\n",
    "    @author: julian ruggiero\n",
    "    '''\n",
    "    steps=0\n",
    "    reminder=c\n",
    "    for i,value in enumerate(f):\n",
    "        if reminder>=value:\n",
    "            steps+=1\n",
    "            reminder-=value\n",
    "        else:\n",
    "            steps+=(i*2)+1\n",
    "            reminder+=c\n",
    "            reminder-=value\n",
    "    return steps\n",
    "numberSteps([2,4,5,1,2],6)"
   ]
  },
  {
   "cell_type": "code",
   "execution_count": null,
   "metadata": {},
   "outputs": [],
   "source": []
  }
 ],
 "metadata": {
  "kernelspec": {
   "display_name": "Python 3",
   "language": "python",
   "name": "python3"
  },
  "language_info": {
   "codemirror_mode": {
    "name": "ipython",
    "version": 3
   },
   "file_extension": ".py",
   "mimetype": "text/x-python",
   "name": "python",
   "nbconvert_exporter": "python",
   "pygments_lexer": "ipython3",
   "version": "3.7.3"
  }
 },
 "nbformat": 4,
 "nbformat_minor": 2
}
