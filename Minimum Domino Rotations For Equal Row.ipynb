{
 "cells": [
  {
   "cell_type": "markdown",
   "metadata": {},
   "source": [
    "### Minimum Domino Rotations For Equal Row"
   ]
  },
  {
   "attachments": {
    "image.png": {
     "image/png": "[encoded data removed]"
    }
   },
   "cell_type": "markdown",
   "metadata": {},
   "source": [
    "In a row of dominoes, A[i] and B[i] represent the top and bottom halves of the i-th domino.  (A domino is a tile with two numbers from 1 to 6 - one on each half of the tile.)\n",
    "\n",
    "We may rotate the i-th domino, so that A[i] and B[i] swap values.\n",
    "\n",
    "Return the minimum number of rotations so that all the values in A are the same, or all the values in B are the same.\n",
    "\n",
    "If it cannot be done, return -1.\n",
    "![image.png](attachment:image.png)\n",
    "\n",
    "##### Example1\n",
    "Input: A = [2,1,2,4,2,2], B = [5,2,6,2,3,2]\n",
    "Output: 2\n",
    "\n",
    "Explanation: \n",
    "The first figure represents the dominoes as given by A and B: before we do any rotations.\n",
    "\n",
    "If we rotate the second and fourth dominoes, we can make every value in the top row equal to 2, as indicated by the second figure.\n",
    "\n",
    "##### Example2\n",
    "\n",
    "Input: A = [3,5,1,2,3], B = [3,6,3,3,4]  Output: -1\n",
    "\n",
    "Explanation: \n",
    "In this case, it is not possible to rotate the dominoes to make one row of values equal.\n",
    "\n",
    "Note:\n",
    "\n",
    "1 <= A[i], B[i] <= 6\n",
    "\n",
    "2 <= A.length == B.length <= 20000"
   ]
  },
  {
   "cell_type": "markdown",
   "metadata": {},
   "source": [
    "#### My Solution, brings same output as Omar's but not passing on Leetcode\n"
   ]
  },
  {
   "cell_type": "code",
   "execution_count": 17,
   "metadata": {},
   "outputs": [
    {
     "data": {
      "text/plain": [
       "2"
      ]
     },
     "execution_count": 17,
     "metadata": {},
     "output_type": "execute_result"
    }
   ],
   "source": [
    "from collections import Counter\n",
    "def minDominoRotations(A, B):\n",
    "    a=A\n",
    "    b=B\n",
    "    common=Counter(a).most_common(1)[0][0] #counts all occurrences for each number and returns the one that has more occurrences\n",
    "    #print(Counter(a).most_common)\n",
    "    rotations=0\n",
    "    for i,value in enumerate(a):\n",
    "        if value==common:\n",
    "            pass\n",
    "        else:\n",
    "            if b[i]==common:\n",
    "                rotations+=1\n",
    "    if (Counter(a).most_common(1)[0][1]+rotations) == len(a):\n",
    "        return rotations\n",
    "    else: #do the same with b list\n",
    "        rotations=0\n",
    "        common=Counter(b).most_common(1)[0][0] #counts all occurrences for each number and returns the one that has more occurrences\n",
    "        rotations=0\n",
    "        for i,value in enumerate(b):\n",
    "            if value==common:\n",
    "                pass\n",
    "            else:\n",
    "                if a[i]==common:\n",
    "                    rotations+=1\n",
    "        if (Counter(b).most_common(1)[0][1]+rotations) == len(b):\n",
    "            return rotations\n",
    "        else:\n",
    "            return -1\n",
    "minDominoRotations([2,1,1,1,2,2,2,1,1,2],[1,1,2,1,1,1,1,2,1,1])"
   ]
  },
  {
   "cell_type": "markdown",
   "metadata": {},
   "source": [
    "#### Omar's Solutions"
   ]
  },
  {
   "cell_type": "code",
   "execution_count": 18,
   "metadata": {},
   "outputs": [
    {
     "data": {
      "text/plain": [
       "2"
      ]
     },
     "execution_count": 18,
     "metadata": {},
     "output_type": "execute_result"
    }
   ],
   "source": [
    "from collections import defaultdict\n",
    "def minDominoRotationsOmar(A, B):\n",
    "    \"\"\"\n",
    "    :type A: List[int]\n",
    "    :type B: List[int]\n",
    "    :rtype: int\n",
    "    \"\"\"\n",
    "    n = len(A)\n",
    "    dicA = defaultdict(int)\n",
    "    dicB = defaultdict(int)\n",
    "    dup = defaultdict(int)\n",
    "\n",
    "    #counting each number and registring the duplicates\n",
    "    for i in range(n):\n",
    "        dicA[A[i]] += 1\n",
    "        dicB[B[i]] += 1\n",
    "        if A[i] == B[i]:\n",
    "            dup[A[i]] += 1\n",
    "\n",
    "    # initializing the result\n",
    "    res = float('inf')\n",
    "\n",
    "    #looping through it\n",
    "    for key,val in dicA.items():\n",
    "        #if it is already flipped\n",
    "        if val == n:\n",
    "            return 0\n",
    "        #the the count for that number in both dictionaries subtracted by the duplicates is more than or equal to n\n",
    "        if val + dicB[key] - dup[key] == n:\n",
    "            res = min(res,n - val,n - dicB[key])\n",
    "\n",
    "    #if the value hasn't change it means it didn't go into the if statement meaning there is not at least one viable solution\n",
    "    return res if res != float('inf') else -1\n",
    "minDominoRotationsOmar([2,1,1,1,2,2,2,1,1,2],[1,1,2,1,1,1,1,2,1,1])"
   ]
  },
  {
   "cell_type": "markdown",
   "metadata": {},
   "source": [
    "#### Leetcode\n",
    "My method is to get the array with the number with the highest frequency first because it would be mean the minimum number of swaps. From there, we just iterate thorugh the chosen array to count the number of swaps or return -1 if there exists an A[i] and B[i] that is not equals to that number (not possible)\n",
    "\n",
    "O(A+B) time --> because we iterate through both arrays at least once to count the frequency\n",
    "\n",
    "O(1) space --> because our dictionary of freq has at most size 6"
   ]
  },
  {
   "cell_type": "code",
   "execution_count": 27,
   "metadata": {},
   "outputs": [],
   "source": [
    "from collections import Counter\n",
    "def minDominoRotations(A, B):\n",
    "    a, countA = Counter(A).most_common(1)[0]\n",
    "    b, countB = Counter(B).most_common(1)[0]\n",
    "    \n",
    "    #The next step avoids iterating boths arrays, \n",
    "    #because it determines which one has the highes frecuency of the main number,\n",
    "    #and establishes that array as the only one to iterate\n",
    "    n, arr1, arr2 = (a, A, B) if countA >= countB else (b, B, A)\n",
    "    count = 0\n",
    "    for i in range(len(arr1)):\n",
    "        if arr1[i] != n:\n",
    "            if arr2[i] == n:\n",
    "                count += 1\n",
    "            else:\n",
    "                return -1\n",
    "    return count"
   ]
  }
 ],
 "metadata": {
  "kernelspec": {
   "display_name": "Python 3",
   "language": "python",
   "name": "python3"
  },
  "language_info": {
   "codemirror_mode": {
    "name": "ipython",
    "version": 3
   },
   "file_extension": ".py",
   "mimetype": "text/x-python",
   "name": "python",
   "nbconvert_exporter": "python",
   "pygments_lexer": "ipython3",
   "version": "3.7.3"
  }
 },
 "nbformat": 4,
 "nbformat_minor": 2
}
