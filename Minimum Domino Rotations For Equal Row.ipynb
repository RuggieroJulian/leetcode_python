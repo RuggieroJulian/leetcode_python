{
 "cells": [
  {
   "cell_type": "code",
   "execution_count": 57,
   "metadata": {},
   "outputs": [
    {
     "name": "stdout",
     "output_type": "stream",
     "text": [
      "<bound method Counter.most_common of Counter({2: 5, 1: 5})>\n",
      "2\n"
     ]
    }
   ],
   "source": [
    "from collections import Counter\n",
    "a=[2,1,1,1,2,2,2,1,1,2]\n",
    "b=[1,1,2,1,1,1,1,2,1,1]\n",
    "common=Counter(a).most_common(1)[0][0] #counts all occurrences for each number and returns the one that has more occurrences\n",
    "print(Counter(a).most_common)\n",
    "rotations=0\n",
    "for i,value in enumerate(a):\n",
    "    if value==common:\n",
    "        pass\n",
    "    else:\n",
    "        if b[i]==common:\n",
    "            rotations+=1\n",
    "if (Counter(a).most_common(1)[0][1]+rotations) == len(a):\n",
    "    print(rotations)\n",
    "else: #do the same with b list\n",
    "    rotations=0\n",
    "    common=Counter(b).most_common(1)[0][0] #counts all occurrences for each number and returns the one that has more occurrences\n",
    "    rotations=0\n",
    "    for i,value in enumerate(b):\n",
    "        if value==common:\n",
    "            pass\n",
    "        else:\n",
    "            if a[i]==common:\n",
    "                rotations+=1\n",
    "    if (Counter(b).most_common(1)[0][1]+rotations) == len(b):\n",
    "        print(rotations)\n",
    "    else:\n",
    "        print(-1)"
   ]
  },
  {
   "cell_type": "code",
   "execution_count": 75,
   "metadata": {},
   "outputs": [
    {
     "name": "stdout",
     "output_type": "stream",
     "text": [
      "2\n"
     ]
    }
   ],
   "source": [
    "from collections import defaultdict\n",
    "\"\"\"\n",
    ":type A: List[int]\n",
    ":type B: List[int]\n",
    ":rtype: int\n",
    "\"\"\"\n",
    "A=[2,1,1,1,2,2,2,1,1,2]\n",
    "B=[1,1,2,1,1,1,1,2,1,1]\n",
    "n = len(A)\n",
    "dicA = defaultdict(int)\n",
    "dicB = defaultdict(int)\n",
    "dup = defaultdict(int)\n",
    "\n",
    "#counting each number and registring the duplicates\n",
    "for i in range(n):\n",
    "    dicA[A[i]] += 1\n",
    "    dicB[B[i]] += 1\n",
    "    if A[i] == B[i]:\n",
    "        dup[A[i]] += 1\n",
    "# initializing the result\n",
    "res = float('inf')\n",
    "#looping through it\n",
    "for key,val in dicA.items():\n",
    "    #if it is already flipped\n",
    "    if val == n:\n",
    "        print(0)\n",
    "    #the the count for that number in both dictionaries subtracted by the duplicates is more than or equal to n\n",
    "    if val + dicB[key] - dup[key] == n:\n",
    "        #print(res)\n",
    "        res = min(res,n - val,n - dicB[key])\n",
    "\n",
    "#if the value hasn't change it means it didn't go into the if statement meaning there is not at least one viable solution\n",
    "print(res) if res != float('inf') else print(-1)"
   ]
  },
  {
   "cell_type": "code",
   "execution_count": null,
   "metadata": {},
   "outputs": [],
   "source": []
  }
 ],
 "metadata": {
  "kernelspec": {
   "display_name": "Python 3",
   "language": "python",
   "name": "python3"
  },
  "language_info": {
   "codemirror_mode": {
    "name": "ipython",
    "version": 3
   },
   "file_extension": ".py",
   "mimetype": "text/x-python",
   "name": "python",
   "nbconvert_exporter": "python",
   "pygments_lexer": "ipython3",
   "version": "3.7.3"
  }
 },
 "nbformat": 4,
 "nbformat_minor": 2
}
