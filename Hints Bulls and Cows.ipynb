{
 "cells": [
  {
   "cell_type": "code",
   "execution_count": 113,
   "metadata": {},
   "outputs": [],
   "source": [
    "def getHint(secret, guess):\n",
    "    \"\"\"\n",
    "    :type secret: str\n",
    "    :type guess: str\n",
    "    :rtype: str\n",
    "    \"\"\"\n",
    "    secret=str(secret)\n",
    "    guess=str(guess)\n",
    "    numBulls=0 #A is bulls (got it right)\n",
    "    numCows=0 #B is cows (got it wrong)\n",
    "    dictSecret={}\n",
    "    dictGuess={}\n",
    "    dictMatches={}\n",
    "    for i, value in enumerate(secret):\n",
    "        print(i,value)\n",
    "        #filling the dicSecret with the number and the amount of times\n",
    "        if value in dictSecret:\n",
    "            dictSecret[value]+=1\n",
    "        else:\n",
    "            dictSecret[value]=1\n",
    "            \n",
    "        if secret[i]==guess[i]:\n",
    "            numBulls+=1\n",
    "            if value in dictMatches:\n",
    "                dictMatches[value] += 1\n",
    "            else:\n",
    "                dictMatches[value] = 1\n",
    "                \n",
    "    for i, value in enumerate(guess):\n",
    "        #filling the dictGuess with the number and the amount of times\n",
    "        if value in dictGuess:\n",
    "            dictGuess[value]+=1\n",
    "        else:\n",
    "            dictGuess[value]=1\n",
    "    print(dictSecret,dictGuess,dictMatches)\n",
    "    for key in dictGuess.keys():\n",
    "        if key in dictSecret.keys() and key in dictGuess.keys():\n",
    "            \n",
    "            if dictGuess[key] == dictSecret[key]:\n",
    "                if key not in dictMatches.keys():\n",
    "                    numCows+=dictGuess[key]\n",
    "                    #print(key,numCows)\n",
    "            else:\n",
    "                #print(dictGuess[value],dictSecret[value],numCows)\n",
    "                if dictGuess[key] >= dictSecret[key]:\n",
    "                    numCows+=dictGuess[key]-dictSecret[key]#-dicMatches[key]\n",
    "                #print(numCows)\n",
    "    return str(numBulls)+'A'+str(numCows)+'B'"
   ]
  },
  {
   "cell_type": "code",
   "execution_count": 114,
   "metadata": {},
   "outputs": [
    {
     "name": "stdout",
     "output_type": "stream",
     "text": [
      "0 1\n",
      "1 1\n",
      "{'1': 2} {'1': 1, '0': 1} {'1': 1}\n"
     ]
    },
    {
     "data": {
      "text/plain": [
       "'1A0B'"
      ]
     },
     "execution_count": 114,
     "metadata": {},
     "output_type": "execute_result"
    }
   ],
   "source": [
    "getHint('011','110')"
   ]
  },
  {
   "cell_type": "code",
   "execution_count": null,
   "metadata": {},
   "outputs": [],
   "source": []
  },
  {
   "cell_type": "code",
   "execution_count": null,
   "metadata": {},
   "outputs": [],
   "source": []
  }
 ],
 "metadata": {
  "kernelspec": {
   "display_name": "Python 3",
   "language": "python",
   "name": "python3"
  },
  "language_info": {
   "codemirror_mode": {
    "name": "ipython",
    "version": 3
   },
   "file_extension": ".py",
   "mimetype": "text/x-python",
   "name": "python",
   "nbconvert_exporter": "python",
   "pygments_lexer": "ipython3",
   "version": "3.7.3"
  }
 },
 "nbformat": 4,
 "nbformat_minor": 2
}
