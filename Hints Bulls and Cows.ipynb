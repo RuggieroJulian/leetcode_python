{
 "cells": [
  {
   "cell_type": "markdown",
   "metadata": {},
   "source": [
    "### Hints Bulls and Cows\n",
    "#### Problem Description\n",
    "\n",
    "You are playing the following Bulls and Cows game with your friend: You write down a number and ask your friend to guess what the number is. Each time your friend makes a guess, you provide a hint that indicates how many digits in said guess match your secret number exactly in both digit and position (called \"bulls\") and how many digits match the secret number but locate in the wrong position (called \"cows\"). Your friend will use successive guesses and hints to eventually derive the secret number.\n",
    "\n",
    "Write a function to return a hint according to the secret number and friend's guess, use A to indicate the bulls and B to indicate the cows. \n",
    "\n",
    "Please note that both secret number and friend's guess may contain duplicate digits.\n",
    "\n",
    "Example 1:\n",
    "\n",
    "Input: secret = \"1807\", guess = \"7810\"\n",
    "\n",
    "Output: \"1A3B\"\n",
    "\n",
    "Explanation: 1 bull and 3 cows. The bull is 8, the cows are 0, 1 and 7.\n",
    "Example 2:\n",
    "\n",
    "Input: secret = \"1123\", guess = \"0111\"\n",
    "\n",
    "Output: \"1A1B\"\n",
    "\n",
    "Explanation: The 1st 1 in friend's guess is a bull, the 2nd or 3rd 1 is a cow.\n",
    "Note: You may assume that the secret number and your friend's guess only contain digits, and their lengths are always equal."
   ]
  },
  {
   "cell_type": "markdown",
   "metadata": {},
   "source": [
    "##### My Personal Solution"
   ]
  },
  {
   "cell_type": "code",
   "execution_count": 8,
   "metadata": {},
   "outputs": [],
   "source": [
    "# new solution by myself\n",
    "def getHint(secret,guess):\n",
    "    from collections import Counter, defaultdict\n",
    "    secret=\"1234\"\n",
    "    guess=\"0111\"\n",
    "    numbersA=0\n",
    "    numbersB=0\n",
    "    secretCount=Counter(secret)\n",
    "    guessCount=Counter(guess)\n",
    "    #using defaultdict to be able to increment without initializing\n",
    "    dictA=defaultdict(int)\n",
    "\n",
    "    #finding the Bulls (match position and digit)\n",
    "    for i,value in enumerate(secret):\n",
    "        if secret[i] == guess[i]:\n",
    "            numbersA+=1\n",
    "            dictA[value]=+1\n",
    "\n",
    "    #finding cows, matches digit only\n",
    "    for i,value in secretCount.items():\n",
    "        if i in dictA.keys():\n",
    "\n",
    "            #matching position, looking if same number more times\n",
    "            reminder=secretCount[i]-dictA[i]\n",
    "            if guessCount[i] > reminder:\n",
    "                numbersB+=reminder\n",
    "            #else:\n",
    "                #numbersB+=guessCount[i]\n",
    "        elif i in guessCount.keys():\n",
    "            if guessCount[i] >= secretCount[i]:\n",
    "                numbersB+=secretCount[i]\n",
    "            else:\n",
    "                numbersB+=guessCount[i]\n",
    "    print(str(numbersA)+'A'+str(numbersB)+'B')"
   ]
  },
  {
   "cell_type": "code",
   "execution_count": 9,
   "metadata": {},
   "outputs": [
    {
     "name": "stdout",
     "output_type": "stream",
     "text": [
      "0A1B\n"
     ]
    }
   ],
   "source": [
    "getHint('011','110')"
   ]
  },
  {
   "cell_type": "markdown",
   "metadata": {},
   "source": [
    "#### Solution from Leetcode"
   ]
  },
  {
   "cell_type": "code",
   "execution_count": 6,
   "metadata": {},
   "outputs": [],
   "source": [
    "def getHintLeetcode(secret, guess):\n",
    "    from collections import Counter\n",
    "    gu_count = Counter(guess)\n",
    "    A = B = 0        \n",
    "    for i in range(len(secret)):\n",
    "        if secret[i]==guess[i]:\n",
    "            A += 1\n",
    "            gu_count[guess[i]] -= 1\n",
    "    for i in range(len(secret)):\n",
    "        if secret[i]!=guess[i] and secret[i] in gu_count and gu_count[secret[i]]>0:\n",
    "            B += 1\n",
    "            gu_count[secret[i]] -= 1\n",
    "    res = str(A)+\"A\"+str(B)+\"B\"\n",
    "    return res   "
   ]
  },
  {
   "cell_type": "code",
   "execution_count": 7,
   "metadata": {},
   "outputs": [
    {
     "data": {
      "text/plain": [
       "'1A2B'"
      ]
     },
     "execution_count": 7,
     "metadata": {},
     "output_type": "execute_result"
    }
   ],
   "source": [
    "getHintLeetcode('011','110')"
   ]
  },
  {
   "cell_type": "code",
   "execution_count": null,
   "metadata": {},
   "outputs": [],
   "source": []
  }
 ],
 "metadata": {
  "kernelspec": {
   "display_name": "Python 3",
   "language": "python",
   "name": "python3"
  },
  "language_info": {
   "codemirror_mode": {
    "name": "ipython",
    "version": 3
   },
   "file_extension": ".py",
   "mimetype": "text/x-python",
   "name": "python",
   "nbconvert_exporter": "python",
   "pygments_lexer": "ipython3",
   "version": "3.7.3"
  }
 },
 "nbformat": 4,
 "nbformat_minor": 2
}
